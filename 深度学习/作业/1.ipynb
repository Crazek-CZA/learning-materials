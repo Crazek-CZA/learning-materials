{
 "cells": [
  {
   "cell_type": "code",
   "execution_count": 4,
   "metadata": {},
   "outputs": [
    {
     "name": "stdout",
     "output_type": "stream",
     "text": [
      "输入维度: torch.Size([2, 64, 8, 32, 32])\n",
      "输出维度: torch.Size([2, 64, 8, 32, 32])\n"
     ]
    }
   ],
   "source": [
    "import torch\n",
    "import torch.nn as nn\n",
    "\n",
    "class NonLocalBlock(nn.Module):\n",
    "    def __init__(self, in_channels):\n",
    "        super(NonLocalBlock, self).__init__()\n",
    "        self.in_channels = in_channels\n",
    "        self.inter_channels = in_channels // 2  # 缩减通道数，节约计算\n",
    "\n",
    "        # 1x1x1 卷积层用于生成 Query, Key, Value\n",
    "        self.query_conv = nn.Conv3d(in_channels, self.inter_channels, kernel_size=1)\n",
    "        self.key_conv = nn.Conv3d(in_channels, self.inter_channels, kernel_size=1)\n",
    "        self.value_conv = nn.Conv3d(in_channels, self.inter_channels, kernel_size=1)\n",
    "\n",
    "        # 最终的输出通道映射回原始的 in_channels\n",
    "        self.out_conv = nn.Conv3d(self.inter_channels, in_channels, kernel_size=1)\n",
    "\n",
    "        # 用于归一化的 softmax\n",
    "        self.softmax = nn.Softmax(dim=-1)\n",
    "\n",
    "        # 初始化残差连接中的权重\n",
    "        self.gamma = nn.Parameter(torch.zeros(1))\n",
    "\n",
    "    def forward(self, x):\n",
    "        # 输入维度: (N, C, T, H, W)\n",
    "        batch_size, C, T, H, W = x.size()\n",
    "\n",
    "        # 生成 Query, Key, Value\n",
    "        query = self.query_conv(x).view(batch_size, self.inter_channels, -1)  # (N, C', T*H*W)\n",
    "        key = self.key_conv(x).view(batch_size, self.inter_channels, -1)     # (N, C', T*H*W)\n",
    "        value = self.value_conv(x).view(batch_size, self.inter_channels, -1) # (N, C', T*H*W)\n",
    "        \n",
    "        # 计算相似度: query 和 key 的点积，得到时空位置之间的相似度\n",
    "        affinity = torch.bmm(query.transpose(1, 2), key)  \n",
    "        # (N, T*H*W, T*H*W)\n",
    "        # print(affinity.shape)\n",
    "        # 使用 Softmax 对相似度进行归一化\n",
    "        attention = self.softmax(affinity)  \n",
    "        # (N, T*H*W, T*H*W)\n",
    "        # print(attention.shape)\n",
    "        # 使用注意力权重加权 value\n",
    "        out = torch.bmm(value, attention.transpose(1, 2))  \n",
    "        # (N, C', T*H*W)\n",
    "        # print(out.shape)\n",
    "        # 恢复到原始的空间尺寸 \n",
    "        out = out.view(batch_size, self.inter_channels, T, H, W)\n",
    "        # (N, C', T, H, W)\n",
    "        # print(out.shape)\n",
    "        # 通过卷积映射到输出通道\n",
    "        out = self.out_conv(out)  \n",
    "        # (N, C, T, H, W)\n",
    "        # print(out.shape)\n",
    "        # 残差连接\n",
    "        out = self.gamma * out + x  # 通过 gamma 参数控制残差的比例\n",
    "\n",
    "        return out\n",
    "\n",
    "# 测试模块\n",
    "if __name__ == \"__main__\":\n",
    "    # 输入示例: Batch = 2, Channels = 64, Time = 8, Height = 32, Width = 32\n",
    "    x = torch.rand(2, 64, 8, 32, 32)\n",
    "    nonlocal_block = NonLocalBlock(in_channels=64)\n",
    "    out = nonlocal_block(x)\n",
    "    print(\"输入维度:\", x.shape)\n",
    "    print(\"输出维度:\", out.shape)\n"
   ]
  }
 ],
 "metadata": {
  "kernelspec": {
   "display_name": "DL",
   "language": "python",
   "name": "python3"
  },
  "language_info": {
   "codemirror_mode": {
    "name": "ipython",
    "version": 3
   },
   "file_extension": ".py",
   "mimetype": "text/x-python",
   "name": "python",
   "nbconvert_exporter": "python",
   "pygments_lexer": "ipython3",
   "version": "3.10.14"
  }
 },
 "nbformat": 4,
 "nbformat_minor": 2
}
